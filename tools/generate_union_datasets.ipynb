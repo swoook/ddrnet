{
 "cells": [
  {
   "cell_type": "code",
   "execution_count": 1,
   "metadata": {},
   "outputs": [],
   "source": [
    "import cv2\n",
    "import scipy.io as sio\n",
    "import os"
   ]
  },
  {
   "cell_type": "markdown",
   "metadata": {},
   "source": [
    "# Change the format of datasets to be the same as the one of DUTS-TR\n",
    "\n",
    "* DUTS-TR follows the format like:\n",
    "\n",
    "```\n",
    ".\n",
    "├── DUTS-TR-Image\n",
    "├── DUTS-TR-Mask\n",
    "└── train_pair.lst\n",
    "```\n",
    "\n",
    "* *train_pair.lst* contains the pairs of relative paths (img_path, label_path)\n",
    "\n",
    "```\n",
    "DUTS-TR-Image/ILSVRC2012_test_00000004.jpg DUTS-TR-Mask/ILSVRC2012_test_00000004.png\n",
    "DUTS-TR-Image/ILSVRC2012_test_00000018.jpg DUTS-TR-Mask/ILSVRC2012_test_00000018.png\n",
    "DUTS-TR-Image/ILSVRC2012_test_00000019.jpg DUTS-TR-Mask/ILSVRC2012_test_00000019.png\n",
    ".\n",
    ".\n",
    ".\n",
    "```"
   ]
  },
  {
   "cell_type": "markdown",
   "metadata": {},
   "source": [
    "# HKUIS\n",
    "\n",
    "* HKUIS provides *.mat* files, but they require matlab program\n",
    "* Found that `scipy` supports File IO for *.mat*\n",
    "* Refer to [File IO (scipy.io) — SciPy v1.7.1 Manual](https://docs.scipy.org/doc/scipy/tutorial/io.html#matlab-files)\n",
    "* Let's make a *.lst* file based on those *.mat* files"
   ]
  },
  {
   "cell_type": "code",
   "execution_count": 2,
   "metadata": {},
   "outputs": [],
   "source": [
    "def run_hkuis():\n",
    "    data_dir = '/data/swook/dataset/hkuis/HKU-IS'\n",
    "    lst_dir = '/data/swook/dataset/hkuis/HKU-IS'\n",
    "    \n",
    "    mat_names = dict(train='trainImgSet.mat', val='valImgSet.mat', test='testImgSet.mat')\n",
    "    \n",
    "    union_lst_path = os.path.join(lst_dir, 'unionImgSet.lst')\n",
    "    union_lst_file = open(union_lst_path, 'w')\n",
    "\n",
    "    for mat_name in list(mat_names.values()):\n",
    "        mat_path = os.path.join(data_dir, mat_name)\n",
    "        mat_name_wo_ext = os.path.splitext(mat_name)[0]\n",
    "        lst_name = ''.join([mat_name_wo_ext, '.lst'])\n",
    "        lst_path = os.path.join(lst_dir, lst_name)\n",
    "        lst_file = open(lst_path, 'w')\n",
    "        \n",
    "        mat_contents = sio.loadmat(mat_path)\n",
    "        for itm in mat_contents[mat_name_wo_ext]:\n",
    "            img_gt_name = itm[0][0]\n",
    "            img_path = os.path.join('hkuis_imgs', img_gt_name)\n",
    "            gt_path = os.path.join('hkuis_gt', img_gt_name)\n",
    "            lst_file.write('{} {}\\n'.format(img_path, gt_path))\n",
    "            union_lst_file.write('{} {}\\n'.format(img_path, gt_path))\n",
    "\n",
    "        lst_file.close()\n",
    "        \n",
    "    union_lst_file.close()\n",
    "\n",
    "run_hkuis()"
   ]
  },
  {
   "cell_type": "markdown",
   "metadata": {},
   "source": [
    "# MSRA-B"
   ]
  },
  {
   "cell_type": "code",
   "execution_count": null,
   "metadata": {},
   "outputs": [],
   "source": [
    "def run_msrab():\n",
    "    src_lst_path = '/data/swook/dataset/msra-b/MSRA-B/msrab.lst'\n",
    "    dst_lst_path = '/data/swook/dataset/msra-b/MSRA-B/msrab_compatible.lst'\n",
    "    \n",
    "    with open(src_lst_path, 'r') as f: \n",
    "        src_lst = [x.strip() for x in f.readlines()]\n",
    "        \n",
    "    with open(dst_lst_path, 'w') as f: \n",
    "        for src_itm in src_lst:\n",
    "            im_name, gt_name = src_itm.split()\n",
    "    union_lst_path = os.path.join(lst_dir, 'unionImgSet.lst')\n",
    "    union_lst_file = open(union_lst_path, 'w')\n",
    "\n",
    "    for mat_name in list(mat_names.values()):\n",
    "        mat_path = os.path.join(data_dir, mat_name)\n",
    "        mat_name_wo_ext = os.path.splitext(mat_name)[0]\n",
    "        lst_name = ''.join([mat_name_wo_ext, '.lst'])\n",
    "        lst_path = os.path.join(lst_dir, lst_name)\n",
    "        lst_file = open(lst_path, 'w')\n",
    "        \n",
    "        mat_contents = sio.loadmat(mat_path)\n",
    "        for itm in mat_contents[mat_name_wo_ext]:\n",
    "            img_gt_name = itm[0][0]\n",
    "            img_path = os.path.join('hkuis_imgs', img_gt_name)\n",
    "            gt_path = os.path.join('hkuis_gt', img_gt_name)\n",
    "            lst_file.write('{} {}\\n'.format(img_path, gt_path))\n",
    "            union_lst_file.write('{} {}\\n'.format(img_path, gt_path))\n",
    "\n",
    "        lst_file.close()\n",
    "        \n",
    "    union_lst_file.close()\n",
    "\n",
    "run_msrab()"
   ]
  }
 ],
 "metadata": {
  "kernelspec": {
   "display_name": "py38torch17",
   "language": "python",
   "name": "py38torch17"
  },
  "language_info": {
   "codemirror_mode": {
    "name": "ipython",
    "version": 3
   },
   "file_extension": ".py",
   "mimetype": "text/x-python",
   "name": "python",
   "nbconvert_exporter": "python",
   "pygments_lexer": "ipython3",
   "version": "3.8.5"
  }
 },
 "nbformat": 4,
 "nbformat_minor": 4
}
